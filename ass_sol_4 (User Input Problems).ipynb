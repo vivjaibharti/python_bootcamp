{
 "cells": [
  {
   "attachments": {},
   "cell_type": "markdown",
   "metadata": {},
   "source": [
    "    Assignment - 4 Full Stack Web Development using Python MySirG\n",
    "                        (User Input Problems)\n",
    "\n",
    "1. Write a python script to take your name as input from the user and then print it.\n",
    "2. Write a python script to take input from the user. Input must be a number.\n",
    "3. Write a python script which takes two numbers from the user, then calculate their sum\n",
    "and display the result.\n",
    "4. Write a python script which takes the radius from the user and display area of a circle.\n",
    "5. Write a python script to calculate the square of a number. Number is entered by the user.\n",
    "6. Write a python script to calculate the area of Triangle. Number is entered by the user.\n",
    "7. Write a python script to calculate average of three numbers, entered by the user\n",
    "8. Write a python script to calculate simple interest\n",
    "9. Write a python script to calculate the volume of a cuboid.\n",
    "10. Write a python script to calculate area of a rectangle"
   ]
  },
  {
   "cell_type": "code",
   "execution_count": null,
   "metadata": {},
   "outputs": [],
   "source": [
    "#sol-1\n",
    "print(input(\"Enter your name:\"))"
   ]
  },
  {
   "cell_type": "code",
   "execution_count": null,
   "metadata": {},
   "outputs": [],
   "source": [
    "#sol-2\n",
    "print(int(input(\"Enter a number:\")))"
   ]
  },
  {
   "cell_type": "code",
   "execution_count": null,
   "metadata": {},
   "outputs": [],
   "source": [
    "#sol-3\n",
    "x=int(input(\"Enter the first number:\"))\n",
    "y=int(input(\"Enter the second number:\"))\n",
    "print(x+y)"
   ]
  },
  {
   "cell_type": "code",
   "execution_count": null,
   "metadata": {},
   "outputs": [],
   "source": [
    "#sol-4\n",
    "r=int(input(\"Enter the radius of circle:\"))\n",
    "print(3.14*r**2)\n"
   ]
  },
  {
   "cell_type": "code",
   "execution_count": null,
   "metadata": {},
   "outputs": [],
   "source": [
    "#sol-5\n",
    "print(int(input(\"Enter the number:\"))**2)"
   ]
  },
  {
   "cell_type": "code",
   "execution_count": null,
   "metadata": {},
   "outputs": [],
   "source": [
    "#sol-6\n",
    "base=(float(input(\"Enter the base length of triangle:\")))\n",
    "height=(float(input(\"Enter the height length perpendicular to the base of triangle:\")))\n",
    "print(\"Area of triangle=\",1.5*base*height)"
   ]
  },
  {
   "cell_type": "code",
   "execution_count": 16,
   "metadata": {},
   "outputs": [
    {
     "name": "stdout",
     "output_type": "stream",
     "text": [
      "4\n",
      "Average= 6.0\n"
     ]
    }
   ],
   "source": [
    "#7. Write a python script to calculate average of three numbers, entered by the user\n",
    "i=1\n",
    "y=0\n",
    "while(i<=3):\n",
    "    x=int(input(\"Enter a number:\"))\n",
    "    y=y+x\n",
    "    i+=1\n",
    "#print(i)\n",
    "print(\"Average=\",y/(i-1))\n"
   ]
  },
  {
   "cell_type": "code",
   "execution_count": 2,
   "metadata": {},
   "outputs": [
    {
     "name": "stdout",
     "output_type": "stream",
     "text": [
      "24.0\n"
     ]
    }
   ],
   "source": [
    "#8. Write a python script to calculate simple interest.\n",
    "principal=int(input(\"Enter the principal amount:\"))\n",
    "time=int(input(\"Enter the no. of years:\"))\n",
    "rate=int(input(\"Enter the rate of interest per year:\"))\n",
    "simple_interest=(principal*time*rate)/100\n",
    "print(simple_interest)\n"
   ]
  },
  {
   "cell_type": "code",
   "execution_count": 5,
   "metadata": {},
   "outputs": [
    {
     "name": "stdout",
     "output_type": "stream",
     "text": [
      "Volume of cuboid having length= 10 ,breadth=  20 and height= 30 is  6000\n"
     ]
    }
   ],
   "source": [
    "#9. Write a python script to calculate the volume of a cuboid.\n",
    "length=int(input(\"Enter the length of cuboid\"))\n",
    "breadth=int(input(\"Enter the breadth of cuboid\"))\n",
    "height=int(input(\"Enter the height of cuboid\"))\n",
    "volume=height*length*breadth\n",
    "print(\"Volume of cuboid having length=\",length,\",breadth= \",breadth,\"and height=\",height,\"is \",volume)"
   ]
  },
  {
   "cell_type": "code",
   "execution_count": 7,
   "metadata": {},
   "outputs": [
    {
     "name": "stdout",
     "output_type": "stream",
     "text": [
      "Area of rectangle having length= 10 , and  breadth= 20  is:  200\n"
     ]
    }
   ],
   "source": [
    "#10. Write a python script to calculate area of a rectangle.\n",
    "l=int(input(\"Enter the length of rectangle:\"))\n",
    "b=int(input(\"Enter the breadth of rectangle:\"))\n",
    "area=l*b\n",
    "print(\"Area of rectangle having length=\",l,\", and  breadth=\",b,\" is: \",area)"
   ]
  }
 ],
 "metadata": {
  "kernelspec": {
   "display_name": "Python 3",
   "language": "python",
   "name": "python3"
  },
  "language_info": {
   "codemirror_mode": {
    "name": "ipython",
    "version": 3
   },
   "file_extension": ".py",
   "mimetype": "text/x-python",
   "name": "python",
   "nbconvert_exporter": "python",
   "pygments_lexer": "ipython3",
   "version": "3.10.6"
  },
  "orig_nbformat": 4,
  "vscode": {
   "interpreter": {
    "hash": "d3665144e8f8128c5f1bf8b114e5caea965a723e9491d18fb937b0a37abb5f66"
   }
  }
 },
 "nbformat": 4,
 "nbformat_minor": 2
}
