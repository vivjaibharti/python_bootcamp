{
 "cells": [
  {
   "cell_type": "code",
   "execution_count": 2,
   "metadata": {},
   "outputs": [
    {
     "name": "stdout",
     "output_type": "stream",
     "text": [
      "{'Name': 'Vivek Kumar', 'Gender': 'Male', 'Age': 26}\n",
      "{'a': 10, 'b': 20, 'c': 30}\n"
     ]
    }
   ],
   "source": [
    "#1. Write a python program to create and print a dictionary which stores your information.\n",
    "# (name, age, gender .....)\n",
    "d11={\"Name\":\"Vivek Kumar\",\"Gender\":\"Male\",\"Age\":26}\n",
    "print(d11)\n",
    "d12=dict(a=10,b=20,c=30)\n",
    "print(d12)"
   ]
  },
  {
   "cell_type": "code",
   "execution_count": 3,
   "metadata": {},
   "outputs": [
    {
     "name": "stdout",
     "output_type": "stream",
     "text": [
      "Vivek Kumar\n"
     ]
    }
   ],
   "source": [
    "#2. Write a python program to access the items of a dictionary by referring to its key name.\n",
    "d21={\"Name\":\"Vivek Kumar\",\"Gender\":\"Male\",\"Age\":26}\n",
    "print(d21[\"Name\"])"
   ]
  },
  {
   "cell_type": "code",
   "execution_count": 5,
   "metadata": {},
   "outputs": [
    {
     "name": "stdout",
     "output_type": "stream",
     "text": [
      "Name:Vivek Kumar, Gender:Male, Age:26, "
     ]
    }
   ],
   "source": [
    "#3. Write a python program to get a list of the values from a dictionary.\n",
    "d31={\"Name\":\"Vivek Kumar\",\"Gender\":\"Male\",\"Age\":26}\n",
    "for k in d31:\n",
    "    print(k,d31[k],sep=\":\",end=\", \")"
   ]
  },
  {
   "cell_type": "code",
   "execution_count": 6,
   "metadata": {},
   "outputs": [
    {
     "name": "stdout",
     "output_type": "stream",
     "text": [
      "{'Name': 'Hello World!!', 'Gender': 'Male', 'Age': 26}\n"
     ]
    }
   ],
   "source": [
    "#4. Write a python program to change the value of a specific item by referring to its key name.\n",
    "d41={\"Name\":\"Vivek Kumar\",\"Gender\":\"Male\",\"Age\":26}\n",
    "d41[\"Name\"]=\"Hello World!!\"\n",
    "print(d41)"
   ]
  },
  {
   "cell_type": "code",
   "execution_count": 7,
   "metadata": {},
   "outputs": [
    {
     "name": "stdout",
     "output_type": "stream",
     "text": [
      "Name\n",
      "Gender\n",
      "Age\n"
     ]
    }
   ],
   "source": [
    "#5. Write a python program to print all key names in the dictionary, one by one.\n",
    "d51={\"Name\":\"Vivek Kumar\",\"Gender\":\"Male\",\"Age\":26}\n",
    "for i in d51:\n",
    "    print(i)"
   ]
  },
  {
   "cell_type": "code",
   "execution_count": 12,
   "metadata": {},
   "outputs": [
    {
     "name": "stdout",
     "output_type": "stream",
     "text": [
      "{'vegetable': 'onion', 'fruit': 'tomato', 'dairy': 'paneer'}\n"
     ]
    }
   ],
   "source": [
    "#6. Write a python program to create a dictionary that contains three dictionaries.(nested)\n",
    "d61={\"Edibles\":{\"vegetable\":\"onion\",\"fruit\":\"tomato\",\"dairy\":\"paneer\"}}\n",
    "print(d61[\"Edibles\"])"
   ]
  },
  {
   "cell_type": "code",
   "execution_count": 16,
   "metadata": {},
   "outputs": [
    {
     "name": "stdout",
     "output_type": "stream",
     "text": [
      "{'d71': {'vegetable': 'onion'}, 'd72': {'fruit': 'tomato'}, 'd73': {'dairy': 'paneer'}}\n"
     ]
    }
   ],
   "source": [
    "#7. Write a python program to create three dictionaries, then create one dictionary that\n",
    "# will contain the other three dictionaries.\n",
    "d71={\"vegetable\":\"onion\"}\n",
    "d72={\"fruit\":\"tomato\"}\n",
    "d73={\"dairy\":\"paneer\"}\n",
    "d74={\"d71\":d71,\"d72\":d72,\"d73\":d73}\n",
    "print(d74)"
   ]
  },
  {
   "cell_type": "code",
   "execution_count": 19,
   "metadata": {},
   "outputs": [
    {
     "name": "stdout",
     "output_type": "stream",
     "text": [
      "{'Name': 'Vivek kumar', 'Roll No.': 'CSM20049', 'Prog.': 'MCA'}\n"
     ]
    }
   ],
   "source": [
    "#8. Write a python program to convert two lists into a dictionary in a way that item from\n",
    "# list1 is the key and item from list2 is the value.\n",
    "l81=[\"Name\",\"Roll No.\",\"Prog.\"]\n",
    "l82=[\"Vivek kumar\",\"CSM20049\",\"MCA\"]\n",
    "d81=dict(zip(l81,l82))\n",
    "print(d81)"
   ]
  },
  {
   "cell_type": "code",
   "execution_count": 31,
   "metadata": {},
   "outputs": [
    {
     "name": "stdout",
     "output_type": "stream",
     "text": [
      "{'vegetable': 'onion', 'fruit': 'tomato'}\n",
      "{'vegetable': 'onion', 'fruit': 'tomato'}\n",
      "{}\n"
     ]
    }
   ],
   "source": [
    "#9. Write a python program to merge two python dictionaries into one dictionary.\n",
    "d91={\"vegetable\":\"onion\"}\n",
    "d92={\"fruit\":\"tomato\"}\n",
    "d93=d91.copy()\n",
    "# d93=dict(d91)\n",
    "d93.update(d92)\n",
    "print(d93)\n",
    "d91[\"vegetable\"]=\"potato\"\n",
    "print(d93)\n",
    "d91.clear()\n",
    "print(d91)"
   ]
  },
  {
   "cell_type": "code",
   "execution_count": 46,
   "metadata": {},
   "outputs": [
    {
     "name": "stdout",
     "output_type": "stream",
     "text": [
      "C\n",
      "<class 'dict_values'>\n",
      "92\n",
      "10\n"
     ]
    }
   ],
   "source": [
    "#10. Write a python program to get the key of lowest value from the dictionary.\n",
    "# sample_dict = {\n",
    "# 'C': 92,\n",
    "# 'Java': 66,\n",
    "# 'Python': 85\n",
    "# }\n",
    "d101={\"C\":92,\"Java\":66,\"Python\":85}\n",
    "print(min(d101))# here min will be perform on key values only.\n",
    "d101[\"javaScript\"]=10\n",
    "print(type(d101.values()))\n",
    "var1=max({i for i in d101.values()})\n",
    "print(var1)\n",
    "var2=min({i for i in d101.values()})\n",
    "print(var2)"
   ]
  }
 ],
 "metadata": {
  "kernelspec": {
   "display_name": "Python 3",
   "language": "python",
   "name": "python3"
  },
  "language_info": {
   "codemirror_mode": {
    "name": "ipython",
    "version": 3
   },
   "file_extension": ".py",
   "mimetype": "text/x-python",
   "name": "python",
   "nbconvert_exporter": "python",
   "pygments_lexer": "ipython3",
   "version": "3.10.6"
  },
  "orig_nbformat": 4
 },
 "nbformat": 4,
 "nbformat_minor": 2
}
