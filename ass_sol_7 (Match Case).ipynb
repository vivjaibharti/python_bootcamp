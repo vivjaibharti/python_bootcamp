{
 "cells": [
  {
   "cell_type": "code",
   "execution_count": 3,
   "metadata": {},
   "outputs": [
    {
     "name": "stdout",
     "output_type": "stream",
     "text": [
      "Month no. 12 has 31 days.\n"
     ]
    }
   ],
   "source": [
    "#1. Write a python script to display the number of days in a given month number.\n",
    "x=int(input(\"Enter the month number:\"))\n",
    "flag=0\n",
    "if x==2:\n",
    "    flag=0\n",
    "elif x==4 or x==6 or x==9 or x==11:\n",
    "    flag=1\n",
    "else:\n",
    "    flag=-1\n",
    "\n",
    "match flag:\n",
    "    case 0:\n",
    "        print(\"Month no.\",x,\"has\",28,\"days.\")\n",
    "    case 1:\n",
    "        print(\"Month no.\",x,\"has\",30,\"days.\")\n",
    "    case -1:\n",
    "        print(\"Month no.\",x,\"has\",31,\"days.\")\n"
   ]
  },
  {
   "cell_type": "code",
   "execution_count": 6,
   "metadata": {},
   "outputs": [
    {
     "name": "stdout",
     "output_type": "stream",
     "text": [
      "Choose from the option given below:\n",
      "A.For Addition Press 1\n",
      "B.For Substraction Press 2\n",
      "C.For Multiplication Press 3\n",
      "D.For Addition Press 4\n",
      "Additon of a and b= 1.0\n"
     ]
    }
   ],
   "source": [
    "#2. Write a menu driven program to perform following operations - Addition, Subtraction, Multiplication, Division.\n",
    "print(\"Choose from the option given below:\")\n",
    "print(\"A.For Addition Press 1\",\"B.For Substraction Press 2\",\"C.For Multiplication Press 3\",\"D.For Addition Press 4\",sep=\"\\n\")\n",
    "x=int(input())\n",
    "match x:\n",
    "    case 1:\n",
    "        a=int(input(\"Enter value of a:\"))\n",
    "        b=int(input(\"Enter value of b:\"))\n",
    "        print(\"Additon of a and b=\",a+b)\n",
    "    case 2:\n",
    "        a=int(input(\"Enter value of a:\"))\n",
    "        b=int(input(\"Enter value of b:\"))\n",
    "        print(\"Substraction of a and b=\",a-b)\n",
    "    case 3:\n",
    "        a=int(input(\"Enter value of a:\"))\n",
    "        b=int(input(\"Enter value of b:\"))\n",
    "        print(\"Multiplication of a and b=\",a*b)\n",
    "    case 4:\n",
    "        a=int(input(\"Enter value of a:\"))\n",
    "        b=int(input(\"Enter value of b:\"))\n",
    "        print(\"Additon of a and b=\",a/b) #'/' <-this operator will do true division that means output will always be a float value.  "
   ]
  },
  {
   "cell_type": "code",
   "execution_count": 9,
   "metadata": {},
   "outputs": [
    {
     "name": "stdout",
     "output_type": "stream",
     "text": [
      "Choose from the option given below:\n",
      "A.To check given sides are of a isosceles triangle Press 1\n",
      "B.To check given sides are of a right angled triangle Press 2\n",
      "C.To check given sides of a equilateral triangle Press 3\n",
      "D.To Exit Press 4\n",
      "Exit\n"
     ]
    }
   ],
   "source": [
    "'''\n",
    "3. Write a menu driven program with the following options:\n",
    "a. Check whether a given set of three numbers are lengths of an isosceles\n",
    "triangle or not\n",
    "b. Check whether a given set of three numbers are lengths of sides of a right\n",
    "angled triangle or not\n",
    "c. Check whether a given set of three numbers are equilateral triangle or not\n",
    "d. Exit\n",
    "'''\n",
    "print(\"Choose from the option given below:\")\n",
    "print(\"A.To check given sides are of a isosceles triangle Press 1\",\"B.To check given sides are of a right angled triangle Press 2\",\"C.To check given sides of a equilateral triangle Press 3\",\"D.To Exit Press 4\",sep=\"\\n\")\n",
    "x=int(input(\"Enter your response:\"))\n",
    "match x:\n",
    "    case 1:\n",
    "        print(\"Enter length of three sides:\")\n",
    "        a=int(input(\"Length of side 1:\"))\n",
    "        b=int(input(\"Length of side 2:\"))\n",
    "        c=int(input(\"Length of side 3:\"))\n",
    "        if(a+b>c and a+c>b and b+c>a):\n",
    "            if(a==b or a==c or b==c):\n",
    "                print(\"Given sides are of a Isosceles triangle.\")\n",
    "            else:\n",
    "                print(\"Given sides are not of a Isosceles triangle.\")\n",
    "        else:\n",
    "            print(\"Given Sides does not form a triangle.\")\n",
    "    \n",
    "    case 2:\n",
    "        print(\"Enter length of three sides:\")\n",
    "        a=int(input(\"Length of side 1:\"))\n",
    "        b=int(input(\"Length of side 2:\"))\n",
    "        c=int(input(\"Length of side 3:\"))\n",
    "        if(a+b>c and a+c>b and b+c>a):\n",
    "            if(a**2+b**2==c**2 or a*a+c*c==b*b or b*b+c*c==a*a):\n",
    "                print(\"Given sides are of a Right-angled triangle.\")\n",
    "            else:\n",
    "                print(\"Given sides are not of a Right-angled triangle.\")\n",
    "        else:\n",
    "            print(\"Given Sides does not form a triangle.\")\n",
    "\n",
    "    case 3:\n",
    "        print(\"Enter length of three sides:\")\n",
    "        a=int(input(\"Length of side 1:\"))\n",
    "        b=int(input(\"Length of side 2:\"))\n",
    "        c=int(input(\"Length of side 3:\"))\n",
    "        print(\"Given Sides are:\")\n",
    "        if(a+b>c and a+c>b and b+c>a):\n",
    "            if(a==b==c):\n",
    "                print(\"Given sides are of a Equilateral triangle.\")\n",
    "            else:\n",
    "                print(\"Given sides are not of a Equilateral triangle.\")\n",
    "        else:\n",
    "            print(\"Given Sides does not form a triangle.\")\n",
    "    \n",
    "    case 4:\n",
    "        print(\"Exit\")"
   ]
  },
  {
   "cell_type": "code",
   "execution_count": null,
   "metadata": {},
   "outputs": [],
   "source": [
    "'''\n",
    "4. Write a program which takes user’s age and display the category of person.\n",
    "Age below 10 years- Kid,\n",
    "Age below 20 - Teen,\n",
    "Age below 40 - young,\n",
    "Age below 60 -Experienced,\n",
    "Age above or equal 60 - Senior Citizen\n",
    "'''\n",
    "x=int(input(\"Enter Age:\"))\n",
    "match x:\n",
    "    case :\n"
   ]
  }
 ],
 "metadata": {
  "kernelspec": {
   "display_name": "Python 3",
   "language": "python",
   "name": "python3"
  },
  "language_info": {
   "codemirror_mode": {
    "name": "ipython",
    "version": 3
   },
   "file_extension": ".py",
   "mimetype": "text/x-python",
   "name": "python",
   "nbconvert_exporter": "python",
   "pygments_lexer": "ipython3",
   "version": "3.10.6"
  },
  "orig_nbformat": 4
 },
 "nbformat": 4,
 "nbformat_minor": 2
}
