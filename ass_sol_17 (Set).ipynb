{
 "cells": [
  {
   "cell_type": "code",
   "execution_count": 2,
   "metadata": {},
   "outputs": [
    {
     "name": "stdout",
     "output_type": "stream",
     "text": [
      "<class 'set'>\n",
      "{'Javascript', 'Php', 'C++', 'C', 'Google script', 'Python'}\n"
     ]
    }
   ],
   "source": [
    "#1. Write a python program to store all the programming languages known to you using Set.\n",
    "set1={\"C\",\"C++\",\"Python\",\"Php\",\"Javascript\",\"Google script\"}\n",
    "print(type(set1))\n",
    "print(set1)"
   ]
  },
  {
   "cell_type": "code",
   "execution_count": 3,
   "metadata": {},
   "outputs": [
    {
     "name": "stdout",
     "output_type": "stream",
     "text": [
      "{26, 'Vivek Kumar', 'Male'}\n"
     ]
    }
   ],
   "source": [
    "#2. Write a python program to store your own information {name, age, gender, so on..}\n",
    "set2={\"Vivek Kumar\", 26, \"Male\"}\n",
    "print(set2)"
   ]
  },
  {
   "cell_type": "code",
   "execution_count": 5,
   "metadata": {},
   "outputs": [
    {
     "name": "stdout",
     "output_type": "stream",
     "text": [
      "<class 'set'>\n",
      "set()\n"
     ]
    }
   ],
   "source": [
    "#3. Write a python script to get the data type of a Set.\n",
    "set3=set()\n",
    "print(type(set3))\n",
    "print(set3)"
   ]
  },
  {
   "cell_type": "code",
   "execution_count": 8,
   "metadata": {},
   "outputs": [
    {
     "name": "stdout",
     "output_type": "stream",
     "text": [
      "Python is present in the set.\n"
     ]
    }
   ],
   "source": [
    "#4. Write a Python script to find if “Python” is present in the set  thisset = {\"Java\",\"Python\", \"Django\"}\n",
    "set4={\"Java\",\"Python\",\"Django\"}\n",
    "if \"Python\" in set4:\n",
    "    print(\"Python is present in the set.\")\n",
    "else:\n",
    "    print(\"Python is not present in the set.\")"
   ]
  },
  {
   "cell_type": "code",
   "execution_count": 12,
   "metadata": {},
   "outputs": [
    {
     "name": "stdout",
     "output_type": "stream",
     "text": [
      "{'Django', 'Nosql', 'Hello', 'C', 'Java', 'Cpp', 'Python'}\n"
     ]
    }
   ],
   "source": [
    "#5. Write a python program to add items from another set to the current set. thisset ={\"Java\", \"Python\", \"SQL\"}\n",
    "# secondset= {\"C\", \"Cpp\", \"NoSQL\"}\n",
    "set51={\"Java\",\"Python\",\"Django\"}\n",
    "set52={\"C\",\"Cpp\",\"Nosql\"}\n",
    "set51.add(\"Hello\")\n",
    "set51.update(set52)\n",
    "print(set51)"
   ]
  },
  {
   "cell_type": "code",
   "execution_count": 15,
   "metadata": {},
   "outputs": [
    {
     "name": "stdout",
     "output_type": "stream",
     "text": [
      "{'C', 'JavaScript', 'Python', 'Django', 'Java'}\n"
     ]
    }
   ],
   "source": [
    "#6. Write a python program to add elements of list to a set thisset = {\"Python\", \"Django\", \"JavaScript\"}\n",
    "# mylist = [\"Java\", \"C\"]\n",
    "set61={\"Python\",\"Django\",\"JavaScript\"}\n",
    "l61=[\"Java\",\"C\"]\n",
    "# set61.add(l61)\n",
    "set61.update(l61)\n",
    "print(set61)"
   ]
  },
  {
   "cell_type": "code",
   "execution_count": 25,
   "metadata": {},
   "outputs": [
    {
     "name": "stdout",
     "output_type": "stream",
     "text": [
      "{'Django', 'JavaScript', 'Python'}\n"
     ]
    }
   ],
   "source": [
    "#7. Write a python program to remove last item of the given set thisset = {\"Python\", \"Django\", \"JavaScript\", “SQL”}.\n",
    "set71={\"Python\", \"Django\", \"JavaScript\",\"SQL\"}\n",
    "set71.pop()\n",
    "#set71.discard(\"SQL\")\n",
    "print(set71)"
   ]
  },
  {
   "cell_type": "code",
   "execution_count": 29,
   "metadata": {},
   "outputs": [
    {
     "name": "stdout",
     "output_type": "stream",
     "text": [
      "set()\n"
     ]
    }
   ],
   "source": [
    "#8. Write a python program to delete the set completely.\n",
    "set81={\"Hello\",\"Delete\",\"it\"}\n",
    "set81.clear()\n",
    "print(set81)\n",
    "del set81"
   ]
  },
  {
   "cell_type": "code",
   "execution_count": 34,
   "metadata": {},
   "outputs": [
    {
     "name": "stdout",
     "output_type": "stream",
     "text": [
      "{'SQL', 'Django', 'JavaScript', 'Python'}\n"
     ]
    }
   ],
   "source": [
    "#9. Write a python program to loop through the set and print values. thisset = {\"Python\", \"Django\", \"JavaScript\", “SQL”}.\n",
    "set91={\"Python\", \"Django\", \"JavaScript\",\"SQL\"}\n",
    "set92={i for i in set91}\n",
    "print(set92)"
   ]
  },
  {
   "cell_type": "code",
   "execution_count": 32,
   "metadata": {},
   "outputs": [
    {
     "name": "stdout",
     "output_type": "stream",
     "text": [
      "SQL\n",
      "Django\n"
     ]
    }
   ],
   "source": [
    "#10. Write a python program to find the maximum and minimum value in a set.\n",
    "set101={\"Python\", \"Django\", \"JavaScript\",\"SQL\"}\n",
    "var1=max(set101)\n",
    "print(var1)\n",
    "var2=min(set101)\n",
    "print(var2)"
   ]
  }
 ],
 "metadata": {
  "kernelspec": {
   "display_name": "Python 3",
   "language": "python",
   "name": "python3"
  },
  "language_info": {
   "codemirror_mode": {
    "name": "ipython",
    "version": 3
   },
   "file_extension": ".py",
   "mimetype": "text/x-python",
   "name": "python",
   "nbconvert_exporter": "python",
   "pygments_lexer": "ipython3",
   "version": "3.10.6"
  },
  "orig_nbformat": 4
 },
 "nbformat": 4,
 "nbformat_minor": 2
}
