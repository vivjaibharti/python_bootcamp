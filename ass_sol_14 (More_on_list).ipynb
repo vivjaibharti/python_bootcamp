{
 "cells": [
  {
   "cell_type": "code",
   "execution_count": 1,
   "metadata": {},
   "outputs": [
    {
     "name": "stdout",
     "output_type": "stream",
     "text": [
      "[1, 2, 3, 4, 5, 6, 7, 8, 9, 10]\n"
     ]
    }
   ],
   "source": [
    "#1. Write a Python script to create a list of first N natural numbers.\n",
    "n=int(input(\"Enter value of n:\"))\n",
    "l1=[i for i in range(1,n+1)]\n",
    "print(l1)"
   ]
  },
  {
   "cell_type": "code",
   "execution_count": 2,
   "metadata": {},
   "outputs": [
    {
     "name": "stdout",
     "output_type": "stream",
     "text": [
      "[1, 3, 5, 7, 9, 11, 13, 15, 17, 19]\n"
     ]
    }
   ],
   "source": [
    "#2. Write a Python script to create a list of first N odd natural numbers.\n",
    "n=int(input(\"Enter value of n:\"))\n",
    "l1=[i*2-1 for i in range(1,n+1)]\n",
    "print(l1)"
   ]
  },
  {
   "cell_type": "code",
   "execution_count": 3,
   "metadata": {},
   "outputs": [
    {
     "name": "stdout",
     "output_type": "stream",
     "text": [
      "[2, 4, 6, 8, 10, 12, 14, 16, 18, 20]\n"
     ]
    }
   ],
   "source": [
    "#3. Write a Python script to create a list of first N even natural numbers.\n",
    "n=int(input(\"Enter value of n:\"))\n",
    "l1=[i*2 for i in range(1,n+1)]\n",
    "print(l1)"
   ]
  },
  {
   "cell_type": "code",
   "execution_count": 5,
   "metadata": {},
   "outputs": [
    {
     "name": "stdout",
     "output_type": "stream",
     "text": [
      "2547\n"
     ]
    }
   ],
   "source": [
    "#4. Write a Python script to find the greatest number in a given list of numbers.\n",
    "l1=[145,214,-245,0,2547,999]\n",
    "max=max(l1)\n",
    "print(max)\n"
   ]
  },
  {
   "cell_type": "code",
   "execution_count": 8,
   "metadata": {},
   "outputs": [
    {
     "name": "stdout",
     "output_type": "stream",
     "text": [
      "-245\n"
     ]
    }
   ],
   "source": [
    "#5. Write a Python script to find the smallest number in a given list of numbers.\n",
    "l1=[145,214,-245,0,2547,999]\n",
    "min=min(l1)\n",
    "print(min)"
   ]
  },
  {
   "cell_type": "code",
   "execution_count": 9,
   "metadata": {},
   "outputs": [
    {
     "name": "stdout",
     "output_type": "stream",
     "text": [
      "3660\n"
     ]
    }
   ],
   "source": [
    "#6. Write a Python script to calculate the sum of elements in a given list of numbers.\n",
    "l1=[145,214,-245,0,2547,999]\n",
    "sum=sum(l1)\n",
    "print(sum)"
   ]
  },
  {
   "cell_type": "code",
   "execution_count": 14,
   "metadata": {},
   "outputs": [
    {
     "name": "stdout",
     "output_type": "stream",
     "text": [
      "[145, 14587]\n"
     ]
    }
   ],
   "source": [
    "#7. Write a Python script to remove all non int values from a list.\n",
    "l1=[\"Vivek\",5.5,145,\"Kumar\",14587,33.3]\n",
    "b=[]\n",
    "for i in l1:\n",
    "    if(type(i)==int):\n",
    "        b.append(i)\n",
    "\n",
    "print(b)\n"
   ]
  },
  {
   "cell_type": "code",
   "execution_count": 18,
   "metadata": {},
   "outputs": [
    {
     "name": "stdout",
     "output_type": "stream",
     "text": [
      "1  :  2\n",
      "2  :  1\n",
      "5  :  2\n",
      "9  :  1\n",
      "7  :  1\n",
      "Vivek  :  1\n",
      "Kumar  :  2\n",
      "Hello  :  1\n",
      "10  :  2\n",
      "0  :  3\n",
      "[1, 2, 5, 9, 7, 'Vivek', 'Kumar', 'Hello', 10, 0]\n"
     ]
    }
   ],
   "source": [
    "#8. Write a Python script to print distinct elements along with their frequencies of occurrence in the list.\n",
    "l1=[1,2,1,5,5,9,7,\"Vivek\",\"Kumar\",\"Hello\",\"Kumar\",10,0,0,0,10]\n",
    "l2=[]\n",
    "for i in l1:\n",
    "    if(i not in l2):\n",
    "        l2.append(i)\n",
    "        print(i,\" : \",l1.count(i))\n",
    "print(l2)"
   ]
  },
  {
   "cell_type": "code",
   "execution_count": null,
   "metadata": {},
   "outputs": [],
   "source": [
    "#9. Write a Python script to print indices of all occurrences of a given element in a given list.\n",
    "l1=[1,2,1,5,5,9,7,\"Vivek\",\"Kumar\",\"Hello\",\"Kumar\",10,0,0,0,10]\n",
    "x=int(input(\"Enter the element\"))"
   ]
  },
  {
   "cell_type": "code",
   "execution_count": 21,
   "metadata": {},
   "outputs": [
    {
     "name": "stdout",
     "output_type": "stream",
     "text": [
      "[0, 0, 0, 1, 1, 2, 5, 5, 7, 9, 10, 10]\n"
     ]
    }
   ],
   "source": [
    "#10. Write a python script to sort a list.\n",
    "l1=[1,2,1,5,5,9,7,10,0,0,0,10]\n",
    "l1.sort()\n",
    "print(l1)"
   ]
  }
 ],
 "metadata": {
  "kernelspec": {
   "display_name": "Python 3",
   "language": "python",
   "name": "python3"
  },
  "language_info": {
   "codemirror_mode": {
    "name": "ipython",
    "version": 3
   },
   "file_extension": ".py",
   "mimetype": "text/x-python",
   "name": "python",
   "nbconvert_exporter": "python",
   "pygments_lexer": "ipython3",
   "version": "3.10.6"
  },
  "orig_nbformat": 4
 },
 "nbformat": 4,
 "nbformat_minor": 2
}
