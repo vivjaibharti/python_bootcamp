{
 "cells": [
  {
   "attachments": {},
   "cell_type": "markdown",
   "metadata": {},
   "source": [
    "    Assignment - 5 Full Stack Web Development usingPython  MySirG\n",
    "                            Operators\n",
    "1. Write a python script to remove the last digit from a given number. (for example, if\n",
    "user enters 2534 then your output should be 253)\n",
    "2. Write a python script to get the last digit from a given number. (for example, if user\n",
    "enters 2089 then your output should be 9)\n",
    "3. Write a python script to swap data of two variables\n",
    "4. Write a python script to find x power y, where values of x and y are given by user\n",
    "5. Write a python script which takes a three digit number from the user and displays\n",
    "only its first digit.\n",
    "6. Write a python script which takes a three digit number from the user and displays\n",
    "only its middle digit.\n",
    "7. Write a python script which takes a three digit number from the user and displays\n",
    "only its last digit.\n",
    "8. Write a python script to use IN operator to display the data present in the list\n",
    "9. Write a python script to use NOT IN operator to display the data not present in list\n",
    "10. Write a python script to use IS operator to display if both variables are the same\n",
    "object or not?"
   ]
  },
  {
   "cell_type": "code",
   "execution_count": 2,
   "metadata": {},
   "outputs": [
    {
     "name": "stdout",
     "output_type": "stream",
     "text": [
      "1024:102\n"
     ]
    }
   ],
   "source": [
    "#1. Write a python script to remove the last digit from a given number. (for example, if user enters 2534 then your output should be 253).\n",
    "\n",
    "x=int(input(\"Enter a number\"))\n",
    "print(x,int(x/10),sep=\":\")"
   ]
  },
  {
   "cell_type": "code",
   "execution_count": 3,
   "metadata": {},
   "outputs": [
    {
     "name": "stdout",
     "output_type": "stream",
     "text": [
      "1024 : 4\n"
     ]
    }
   ],
   "source": [
    "#2. Write a python script to get the last digit from a given number. (for example, if userenters 2089 then your output should be 9).\n",
    "x=int(input(\"Enter a number\"))\n",
    "print(x,\":\",x%10)"
   ]
  },
  {
   "cell_type": "code",
   "execution_count": 19,
   "metadata": {},
   "outputs": [
    {
     "name": "stdout",
     "output_type": "stream",
     "text": [
      "Before Swapping \n",
      " 125 : 254\n",
      "After Swapping \n",
      " 254 : 125\n"
     ]
    }
   ],
   "source": [
    "#3. Write a python script to swap data of two variables\n",
    "x=int(input(\"Enter value of x:\"))\n",
    "y=int(input(\"Enter value of y:\"))\n",
    "print(\"Before Swapping\",\"\\n\",x,\":\",y)\n",
    "x=x+y\n",
    "y=x-y\n",
    "x=x-y\n",
    "print(\"After Swapping \\n\",x,\":\",y)"
   ]
  },
  {
   "cell_type": "code",
   "execution_count": 8,
   "metadata": {},
   "outputs": [
    {
     "name": "stdout",
     "output_type": "stream",
     "text": [
      "16\n"
     ]
    }
   ],
   "source": [
    "#4. Write a python script to find x power y, where values of x and y are given by user\n",
    "base=int(input(\"Enter base value:\"))\n",
    "exponemt=int(input(\"Enter exponent value:\") )\n",
    "print(pow(base,exponemt))"
   ]
  },
  {
   "cell_type": "code",
   "execution_count": 16,
   "metadata": {},
   "outputs": [
    {
     "name": "stdout",
     "output_type": "stream",
     "text": [
      "963:9\n"
     ]
    }
   ],
   "source": [
    "#5. Write a python script which takes a three digit number from the user and displays only its first digit.\n",
    "x=int(input(\"Enter a three digit number:\"))\n",
    "print(x,int(x/100),sep=\":\")"
   ]
  },
  {
   "cell_type": "code",
   "execution_count": 15,
   "metadata": {},
   "outputs": [
    {
     "name": "stdout",
     "output_type": "stream",
     "text": [
      "687:8\n"
     ]
    }
   ],
   "source": [
    "# 6. Write a python script which takes a three digit number from the user and displays only its middle digit\n",
    "x=int(input(\"Enter a three digit number:\"))\n",
    "print(x,int((int(x/10))%10),sep=\":\")"
   ]
  },
  {
   "cell_type": "code",
   "execution_count": 21,
   "metadata": {},
   "outputs": [
    {
     "name": "stdout",
     "output_type": "stream",
     "text": [
      "658:8\n"
     ]
    }
   ],
   "source": [
    "# 7. Write a python script which takes a three digit number from the user and displays only its last digit.\n",
    "x=int(input(\"Enter a three digit number:\"))\n",
    "print(x,x%10,sep=\":\")\n"
   ]
  },
  {
   "cell_type": "code",
   "execution_count": null,
   "metadata": {},
   "outputs": [],
   "source": [
    "#8. Write a python script to use IN operator to display the data present in the list\n"
   ]
  }
 ],
 "metadata": {
  "kernelspec": {
   "display_name": "myenv1",
   "language": "python",
   "name": "python3"
  },
  "language_info": {
   "codemirror_mode": {
    "name": "ipython",
    "version": 3
   },
   "file_extension": ".py",
   "mimetype": "text/x-python",
   "name": "python",
   "nbconvert_exporter": "python",
   "pygments_lexer": "ipython3",
   "version": "3.10.6"
  },
  "orig_nbformat": 4,
  "vscode": {
   "interpreter": {
    "hash": "0a7751c087c63444897a1c4a811a34dbe4931eb895687b044381fe6109aa86de"
   }
  }
 },
 "nbformat": 4,
 "nbformat_minor": 2
}
