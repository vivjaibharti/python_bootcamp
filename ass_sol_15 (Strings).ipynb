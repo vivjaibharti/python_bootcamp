{
 "cells": [
  {
   "cell_type": "code",
   "execution_count": 1,
   "metadata": {},
   "outputs": [
    {
     "name": "stdout",
     "output_type": "stream",
     "text": [
      "string1 string2 string3\n"
     ]
    }
   ],
   "source": [
    "#1. Write a python script to create a String in 3 different possible ways.\n",
    "s1=\"string1\"\n",
    "s2=str(\"string2\")\n",
    "s3='string3'\n",
    "print(s1,s2,s3)"
   ]
  },
  {
   "cell_type": "code",
   "execution_count": 5,
   "metadata": {},
   "outputs": [
    {
     "name": "stdout",
     "output_type": "stream",
     "text": [
      "iNeuro\n"
     ]
    }
   ],
   "source": [
    "#2. Write a python script to Get the characters from the start to position 5 (Given String“iNeuron” using the slice syntax).\n",
    "s1=\"iNeuron\"\n",
    "print(s1[0:6:1])"
   ]
  },
  {
   "cell_type": "code",
   "execution_count": 8,
   "metadata": {},
   "outputs": [
    {
     "name": "stdout",
     "output_type": "stream",
     "text": [
      "Hello \n"
     ]
    }
   ],
   "source": [
    "#3. Write a python script to Get the characters from position 2 to position 5 (Given String “Hello Learners” using the slice syntax).\n",
    "s1= \"Hello Learners\"\n",
    "print(s1[0:6:1])"
   ]
  },
  {
   "cell_type": "code",
   "execution_count": 10,
   "metadata": {},
   "outputs": [
    {
     "name": "stdout",
     "output_type": "stream",
     "text": [
      "Learning Python\n"
     ]
    }
   ],
   "source": [
    "#4. Write a python script to demonstrate String Concatenation adding space in between (Given Strings a=”Learning” b=”Python” ).\n",
    "a=\"Learning\"\n",
    "b=\"Python\"\n",
    "print(a+\" \"+b)"
   ]
  },
  {
   "cell_type": "code",
   "execution_count": 3,
   "metadata": {},
   "outputs": [
    {
     "name": "stdout",
     "output_type": "stream",
     "text": [
      "No. of characters in iNeuron is 7\n"
     ]
    }
   ],
   "source": [
    "#5. Write a python script to get the count of total number of characters in String a=“iNeuron”.\n",
    "a='iNeuron'\n",
    "count=0\n",
    "for i in a:\n",
    "    count+=1\n",
    "print(\"No. of characters in\",a,\"is\",count)"
   ]
  },
  {
   "cell_type": "code",
   "execution_count": 1,
   "metadata": {},
   "outputs": [
    {
     "name": "stdout",
     "output_type": "stream",
     "text": [
      "norueNi\n"
     ]
    }
   ],
   "source": [
    "#6. Write a python script to reverse a String. (“iNeuron”).\n",
    "a='iNeuron'\n",
    "b=a[::-1]\n",
    "print(b)"
   ]
  },
  {
   "cell_type": "code",
   "execution_count": 8,
   "metadata": {},
   "outputs": [
    {
     "name": "stdout",
     "output_type": "stream",
     "text": [
      "Count: 2\n"
     ]
    }
   ],
   "source": [
    "#7. Write a python script to determine whether a string contains a specific substring.\n",
    "main_string = \"Hello, hello, how are you, hello?\"\n",
    "substring = \"hello\"\n",
    "count = main_string.count(substring)\n",
    "print(\"Count:\", count)"
   ]
  },
  {
   "cell_type": "code",
   "execution_count": 7,
   "metadata": {},
   "outputs": [
    {
     "data": {
      "text/plain": [
       "False"
      ]
     },
     "execution_count": 7,
     "metadata": {},
     "output_type": "execute_result"
    }
   ],
   "source": [
    "#8. Write a python script to check if a string contains only numbers.\n",
    "a=\"CSM20049\"\n",
    "# count=0\n",
    "# for i in a:\n",
    "#     if ord(i)>=48 and (ord(i)<=57):\n",
    "#         count+=1\n",
    "# print(count)\n",
    "a.isdigit()"
   ]
  },
  {
   "cell_type": "code",
   "execution_count": 9,
   "metadata": {},
   "outputs": [
    {
     "data": {
      "text/plain": [
       "False"
      ]
     },
     "execution_count": 9,
     "metadata": {},
     "output_type": "execute_result"
    }
   ],
   "source": [
    "#9. Write a python script to check if a string contains only characters of the alphabet.\n",
    "main_string = \"Hello, hello, how are you, hello?\"\n",
    "main_string.isalpha()"
   ]
  },
  {
   "cell_type": "code",
   "execution_count": 11,
   "metadata": {},
   "outputs": [
    {
     "name": "stdout",
     "output_type": "stream",
     "text": [
      "<class 'str'>\n"
     ]
    }
   ],
   "source": [
    "#10. Write a python script to convert an integer to a string.\n",
    "x=1248105\n",
    "s=str(x)\n",
    "print(type(s))"
   ]
  }
 ],
 "metadata": {
  "kernelspec": {
   "display_name": "Python 3",
   "language": "python",
   "name": "python3"
  },
  "language_info": {
   "codemirror_mode": {
    "name": "ipython",
    "version": 3
   },
   "file_extension": ".py",
   "mimetype": "text/x-python",
   "name": "python",
   "nbconvert_exporter": "python",
   "pygments_lexer": "ipython3",
   "version": "3.10.6"
  },
  "orig_nbformat": 4
 },
 "nbformat": 4,
 "nbformat_minor": 2
}
