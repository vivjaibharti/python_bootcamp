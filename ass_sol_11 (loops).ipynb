{
 "cells": [
  {
   "cell_type": "code",
   "execution_count": 1,
   "metadata": {},
   "outputs": [
    {
     "name": "stdout",
     "output_type": "stream",
     "text": [
      "Sum= 21\n"
     ]
    }
   ],
   "source": [
    "#1. Write a python script to calculate sum of first N natural numbers.\n",
    "n=int(input(\"Enter value of n:\"))\n",
    "sum=0\n",
    "while(n!=0):\n",
    "    sum=sum+n\n",
    "    n-=1\n",
    "print(\"Sum=\",sum)"
   ]
  },
  {
   "cell_type": "code",
   "execution_count": 3,
   "metadata": {},
   "outputs": [
    {
     "name": "stdout",
     "output_type": "stream",
     "text": [
      "Sum= 91\n"
     ]
    }
   ],
   "source": [
    "#2. Write a python script to calculate sum of squares of first N natural numbers.\n",
    "n=int(input(\"Enter value of n:\"))\n",
    "sum=0\n",
    "while(n!=0):\n",
    "    sum=sum+n*n\n",
    "    n-=1\n",
    "print(\"Sum=\",sum)"
   ]
  },
  {
   "cell_type": "code",
   "execution_count": 4,
   "metadata": {},
   "outputs": [
    {
     "name": "stdout",
     "output_type": "stream",
     "text": [
      "Sum= 441\n"
     ]
    }
   ],
   "source": [
    "#3. Write a python script to calculate sum of cubes of first N natural numbers.\n",
    "n=int(input(\"Enter value of n:\"))\n",
    "sum=0\n",
    "while(n!=0):\n",
    "    sum=sum+n**3\n",
    "    n-=1\n",
    "print(\"Sum=\",sum)"
   ]
  },
  {
   "cell_type": "code",
   "execution_count": 6,
   "metadata": {},
   "outputs": [
    {
     "name": "stdout",
     "output_type": "stream",
     "text": [
      "Sum= 100\n"
     ]
    }
   ],
   "source": [
    "#4. Write a python script to calculate sum of first N odd natural numbers.\n",
    "n=int(input(\"Enter value of n:\"))\n",
    "sum=0\n",
    "while(n!=0):\n",
    "    sum=sum+(2*n-1)\n",
    "    n-=1\n",
    "print(\"Sum=\",sum)"
   ]
  },
  {
   "cell_type": "code",
   "execution_count": 8,
   "metadata": {},
   "outputs": [
    {
     "name": "stdout",
     "output_type": "stream",
     "text": [
      "Sum of First 10 even natural numbers:\n",
      "110\n"
     ]
    }
   ],
   "source": [
    "#5. Write a python script to calculate sum of first N even natural numbers.\n",
    "n=int(input(\"Enter Value of n:\"))\n",
    "sum=0\n",
    "print(\"Sum of First\",n,\"even natural numbers:\",)\n",
    "while(n!=0):\n",
    "    sum=sum+2*n\n",
    "    n-=1\n",
    "print(sum)"
   ]
  },
  {
   "cell_type": "code",
   "execution_count": 20,
   "metadata": {},
   "outputs": [
    {
     "name": "stdout",
     "output_type": "stream",
     "text": [
      "Factorial of n: 40320\n"
     ]
    }
   ],
   "source": [
    "#6. Write a python script to calculate factorial of a given number.\n",
    "n=int(input(\"Enter Value of n:\"))#8\n",
    "factorial=1\n",
    "while(n!=0):\n",
    "    if n==1:\n",
    "        factorial=factorial*1\n",
    "    if n!=1:\n",
    "        factorial=factorial*n\n",
    "    n-=1\n",
    "print(\"Factorial of n:\",factorial)"
   ]
  },
  {
   "cell_type": "code",
   "execution_count": 15,
   "metadata": {},
   "outputs": [
    {
     "name": "stdout",
     "output_type": "stream",
     "text": [
      "Number of digits in the number: 3\n"
     ]
    }
   ],
   "source": [
    "#7. Write a python script to count digits in a given number.\n",
    "n=int(input(\"Enter Value of n:\"))#253\n",
    "count=0\n",
    "while(n!=0):\n",
    "    n=n//10\n",
    "    count+=1\n",
    "print(\"Number of digits in the number:\",count)"
   ]
  },
  {
   "cell_type": "code",
   "execution_count": 17,
   "metadata": {},
   "outputs": [
    {
     "name": "stdout",
     "output_type": "stream",
     "text": [
      "Sum of digits of the number: 5\n"
     ]
    }
   ],
   "source": [
    "#8. Write a python script to calculate sum of digits of a given number.\n",
    "n=int(input(\"Enter value of n:\"))#121\n",
    "sum=0\n",
    "while(n!=0):\n",
    "    sum=sum+n%10\n",
    "    n=n//10\n",
    "print(\"Sum of digits of the number:\",sum)"
   ]
  },
  {
   "cell_type": "code",
   "execution_count": 21,
   "metadata": {},
   "outputs": [
    {
     "name": "stdout",
     "output_type": "stream",
     "text": [
      "0b1010\n"
     ]
    }
   ],
   "source": [
    "#9. Write a python script to print binary equivalent of a given decimal number. (do not use bin() method)\n",
    "n=int(input(\"Enter a number:\"))\n",
    "print(bin(n))"
   ]
  },
  {
   "cell_type": "code",
   "execution_count": 22,
   "metadata": {},
   "outputs": [
    {
     "name": "stdout",
     "output_type": "stream",
     "text": [
      "0o55\n"
     ]
    }
   ],
   "source": [
    "#10. Write a python script to print the octal equivalent of a given decimal number. (do notuse oct() method)\n",
    "n=int(input(\"Enter a number:\"))\n",
    "print(oct(n))"
   ]
  }
 ],
 "metadata": {
  "kernelspec": {
   "display_name": "Python 3",
   "language": "python",
   "name": "python3"
  },
  "language_info": {
   "codemirror_mode": {
    "name": "ipython",
    "version": 3
   },
   "file_extension": ".py",
   "mimetype": "text/x-python",
   "name": "python",
   "nbconvert_exporter": "python",
   "pygments_lexer": "ipython3",
   "version": "3.10.6"
  },
  "orig_nbformat": 4
 },
 "nbformat": 4,
 "nbformat_minor": 2
}
