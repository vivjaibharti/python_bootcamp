{
 "cells": [
  {
   "cell_type": "code",
   "execution_count": 7,
   "metadata": {},
   "outputs": [
    {
     "name": "stdout",
     "output_type": "stream",
     "text": [
      "5 MySirG\n",
      "4 MySirG\n",
      "3 MySirG\n",
      "2 MySirG\n",
      "1 MySirG\n"
     ]
    }
   ],
   "source": [
    "#\n",
    "n=int(input(\"Enter a number\"))\n",
    "while n:\n",
    "    print(n,\"MySirG.\")\n",
    "    n-=1"
   ]
  },
  {
   "cell_type": "code",
   "execution_count": null,
   "metadata": {},
   "outputs": [],
   "source": [
    "#"
   ]
  }
 ],
 "metadata": {
  "kernelspec": {
   "display_name": "Python 3",
   "language": "python",
   "name": "python3"
  },
  "language_info": {
   "codemirror_mode": {
    "name": "ipython",
    "version": 3
   },
   "file_extension": ".py",
   "mimetype": "text/x-python",
   "name": "python",
   "nbconvert_exporter": "python",
   "pygments_lexer": "ipython3",
   "version": "3.10.6"
  },
  "orig_nbformat": 4,
  "vscode": {
   "interpreter": {
    "hash": "d3665144e8f8128c5f1bf8b114e5caea965a723e9491d18fb937b0a37abb5f66"
   }
  }
 },
 "nbformat": 4,
 "nbformat_minor": 2
}
