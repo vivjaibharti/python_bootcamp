{
 "cells": [
  {
   "cell_type": "code",
   "execution_count": null,
   "metadata": {},
   "outputs": [],
   "source": [
    "#1. Write a python script to print MySirG n times on the screen.\n",
    "n=int(input(\"Enter a number\"))\n",
    "while n:\n",
    "    print(n,\"MySirG\")\n",
    "    n-=1"
   ]
  },
  {
   "cell_type": "code",
   "execution_count": null,
   "metadata": {},
   "outputs": [],
   "source": [
    "#2. Write a python script to print first N natural numbers.\n",
    "n=int(input(\"Enter value of n:\"))\n",
    "x=0\n",
    "while(n!=0):\n",
    "    x+=1\n",
    "    print(x)\n",
    "    n-=1"
   ]
  },
  {
   "cell_type": "code",
   "execution_count": null,
   "metadata": {},
   "outputs": [],
   "source": [
    "#3. Write a python script to print first N natural numbers in reverse order.\n",
    "x=int(input(\"Enter value of n:\"))\n",
    "while(x>0):\n",
    "    print(x)\n",
    "    x-=1"
   ]
  },
  {
   "cell_type": "code",
   "execution_count": null,
   "metadata": {},
   "outputs": [],
   "source": [
    "#4. Write a python script to print first N odd natural numbers.\n",
    "n=int(input(\"Enter value of n:\"))\n",
    "x=1\n",
    "while(n!=0):\n",
    "    print(-1+2*x)\n",
    "    x+=1\n",
    "    n-=1"
   ]
  },
  {
   "cell_type": "code",
   "execution_count": null,
   "metadata": {},
   "outputs": [],
   "source": [
    "#5. Write a python script to print first N odd natural numbers in reverse order.\n",
    "n=int(input(\"Enter value of n:\"))\n",
    "while(n>=1):\n",
    "    print(-1+2*n)\n",
    "    n-=1"
   ]
  },
  {
   "cell_type": "code",
   "execution_count": null,
   "metadata": {},
   "outputs": [],
   "source": [
    "#6. Write a python script to print first N even natural numbers.\n",
    "n=int(input(\"Enter value of n:\"))\n",
    "x=1\n",
    "while(n!=0):\n",
    "    print(2*x)\n",
    "    x+=1\n",
    "    n-=1\n"
   ]
  },
  {
   "cell_type": "code",
   "execution_count": 17,
   "metadata": {},
   "outputs": [
    {
     "name": "stdout",
     "output_type": "stream",
     "text": [
      "10\n",
      "8\n",
      "6\n",
      "4\n",
      "2\n"
     ]
    }
   ],
   "source": [
    "#7. Write a python script to print first N even natural numbers in reverse order.\n",
    "n=int(input(\"Enter Value of n:\"))\n",
    "while(n>=1):\n",
    "    print(n*2)\n",
    "    n-=1"
   ]
  },
  {
   "cell_type": "code",
   "execution_count": 18,
   "metadata": {},
   "outputs": [
    {
     "name": "stdout",
     "output_type": "stream",
     "text": [
      "1\n",
      "4\n",
      "9\n",
      "16\n",
      "25\n"
     ]
    }
   ],
   "source": [
    "#8. Write a python script to print squares of first N natural numbers.\n",
    "n=int((input(\"Enter Value of n:\")))\n",
    "x=1\n",
    "while(n!=0):\n",
    "    print(x*x)\n",
    "    x+=1\n",
    "    n-=1"
   ]
  },
  {
   "cell_type": "code",
   "execution_count": 19,
   "metadata": {},
   "outputs": [
    {
     "name": "stdout",
     "output_type": "stream",
     "text": [
      "1\n",
      "8\n",
      "27\n",
      "64\n",
      "125\n"
     ]
    }
   ],
   "source": [
    "#9. Write a python script to print cubes of first N natural numbers\n",
    "n=int((input(\"Enter Value of n:\")))\n",
    "x=1\n",
    "while(n!=0):\n",
    "    print(x**3)\n",
    "    x+=1\n",
    "    n-=1"
   ]
  },
  {
   "cell_type": "code",
   "execution_count": 20,
   "metadata": {},
   "outputs": [
    {
     "name": "stdout",
     "output_type": "stream",
     "text": [
      "5 * 1  = 5\n",
      "5 * 2  = 10\n",
      "5 * 3  = 15\n",
      "5 * 4  = 20\n",
      "5 * 5  = 25\n",
      "5 * 6  = 30\n",
      "5 * 7  = 35\n",
      "5 * 8  = 40\n",
      "5 * 9  = 45\n",
      "5 * 10  = 50\n"
     ]
    }
   ],
   "source": [
    "#10. Write a python script to print first 10 multiples of N.\n",
    "n=int(input(\"Enter value of n:\"))\n",
    "x=1\n",
    "while(x<=10):\n",
    "    print(n,\"*\",x,\" =\",n*x)\n",
    "    x+=1"
   ]
  }
 ],
 "metadata": {
  "kernelspec": {
   "display_name": "Python 3",
   "language": "python",
   "name": "python3"
  },
  "language_info": {
   "codemirror_mode": {
    "name": "ipython",
    "version": 3
   },
   "file_extension": ".py",
   "mimetype": "text/x-python",
   "name": "python",
   "nbconvert_exporter": "python",
   "pygments_lexer": "ipython3",
   "version": "3.10.6"
  },
  "orig_nbformat": 4
 },
 "nbformat": 4,
 "nbformat_minor": 2
}
