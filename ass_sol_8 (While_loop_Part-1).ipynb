{
 "cells": [
  {
   "cell_type": "code",
   "execution_count": 1,
   "metadata": {},
   "outputs": [
    {
     "name": "stdout",
     "output_type": "stream",
     "text": [
      "6 MySirG\n",
      "5 MySirG\n",
      "4 MySirG\n",
      "3 MySirG\n",
      "2 MySirG\n",
      "1 MySirG\n"
     ]
    }
   ],
   "source": [
    "#1. Write a python script to print MySirG5 times on the screen.\n",
    "n=int(input(\"Enter a number\"))\n",
    "while n:\n",
    "    print(n,\"MySirG\")\n",
    "    n-=1"
   ]
  },
  {
   "cell_type": "code",
   "execution_count": null,
   "metadata": {},
   "outputs": [],
   "source": [
    "#2. Write a python script to print first 10 natural numbers.\n",
    "n=1\n",
    "while(n<=10):\n",
    "    print(n)\n",
    "    n+=1"
   ]
  },
  {
   "cell_type": "code",
   "execution_count": null,
   "metadata": {},
   "outputs": [],
   "source": [
    "#3. Write a python script to print first 10 natural numbers in reverse order.\n",
    "n=10\n",
    "while(n!=0):\n",
    "    print(n)\n",
    "    n-=1"
   ]
  },
  {
   "cell_type": "code",
   "execution_count": 6,
   "metadata": {},
   "outputs": [
    {
     "name": "stdout",
     "output_type": "stream",
     "text": [
      "1\n",
      "3\n",
      "5\n",
      "7\n",
      "9\n",
      "11\n",
      "13\n",
      "15\n",
      "17\n",
      "19\n"
     ]
    }
   ],
   "source": [
    "#4. Write a python script to print first 10 odd natural numbers.\n",
    "n=1\n",
    "while(n<=10):\n",
    "    print(-1+2*n)\n",
    "    n+=1"
   ]
  },
  {
   "cell_type": "code",
   "execution_count": 8,
   "metadata": {},
   "outputs": [
    {
     "name": "stdout",
     "output_type": "stream",
     "text": [
      "19\n",
      "17\n",
      "15\n",
      "13\n",
      "11\n",
      "9\n",
      "7\n",
      "5\n",
      "3\n",
      "1\n"
     ]
    }
   ],
   "source": [
    "#5. Write a python script to print first 10 odd natural numbers in reverse order.\n",
    "n=10\n",
    "while(n>=1):\n",
    "    print(-1+2*n)\n",
    "    n-=1"
   ]
  },
  {
   "cell_type": "code",
   "execution_count": 9,
   "metadata": {},
   "outputs": [
    {
     "name": "stdout",
     "output_type": "stream",
     "text": [
      "2\n",
      "4\n",
      "6\n",
      "8\n",
      "10\n",
      "12\n",
      "14\n",
      "16\n",
      "18\n",
      "20\n"
     ]
    }
   ],
   "source": [
    "#6. Write a python script to print first 10 even natural numbers.\n",
    "n=1\n",
    "while(n<=10):\n",
    "    print(n*2)\n",
    "    n+=1"
   ]
  },
  {
   "cell_type": "code",
   "execution_count": 10,
   "metadata": {},
   "outputs": [
    {
     "name": "stdout",
     "output_type": "stream",
     "text": [
      "20\n",
      "18\n",
      "16\n",
      "14\n",
      "12\n",
      "10\n",
      "8\n",
      "6\n",
      "4\n",
      "2\n"
     ]
    }
   ],
   "source": [
    "#7. Write a python script to print first 10 even natural numbers in reverse order.\n",
    "n=10\n",
    "while(n!=0):\n",
    "    print(2*n)\n",
    "    n-=1"
   ]
  },
  {
   "cell_type": "code",
   "execution_count": 11,
   "metadata": {},
   "outputs": [
    {
     "name": "stdout",
     "output_type": "stream",
     "text": [
      "1\n",
      "4\n",
      "9\n",
      "16\n",
      "25\n",
      "36\n",
      "49\n",
      "64\n",
      "81\n",
      "100\n"
     ]
    }
   ],
   "source": [
    "#8. Write a python script to print squares of first 10 natural numbers.\n",
    "n=1\n",
    "while(n<=10):\n",
    "    print(n*n)\n",
    "    n+=1"
   ]
  },
  {
   "cell_type": "code",
   "execution_count": 12,
   "metadata": {},
   "outputs": [
    {
     "name": "stdout",
     "output_type": "stream",
     "text": [
      "1\n",
      "8\n",
      "27\n",
      "64\n",
      "125\n",
      "216\n",
      "343\n",
      "512\n",
      "729\n",
      "1000\n"
     ]
    }
   ],
   "source": [
    "#9. Write a python script to print cubes of first 10 natural numbers\n",
    "n=1\n",
    "while(n<=10):\n",
    "    print(n**3)\n",
    "    n+=1"
   ]
  },
  {
   "cell_type": "code",
   "execution_count": 13,
   "metadata": {},
   "outputs": [
    {
     "name": "stdout",
     "output_type": "stream",
     "text": [
      "5\n",
      "10\n",
      "15\n",
      "20\n",
      "25\n",
      "30\n",
      "35\n",
      "40\n",
      "45\n",
      "50\n"
     ]
    }
   ],
   "source": [
    "#10. Write a python script to print first 10 multiples of 5.\n",
    "n=1\n",
    "while(n<=10):\n",
    "    print(n*5)\n",
    "    n+=1"
   ]
  }
 ],
 "metadata": {
  "kernelspec": {
   "display_name": "Python 3",
   "language": "python",
   "name": "python3"
  },
  "language_info": {
   "codemirror_mode": {
    "name": "ipython",
    "version": 3
   },
   "file_extension": ".py",
   "mimetype": "text/x-python",
   "name": "python",
   "nbconvert_exporter": "python",
   "pygments_lexer": "ipython3",
   "version": "3.10.6"
  },
  "orig_nbformat": 4,
  "vscode": {
   "interpreter": {
    "hash": "d3665144e8f8128c5f1bf8b114e5caea965a723e9491d18fb937b0a37abb5f66"
   }
  }
 },
 "nbformat": 4,
 "nbformat_minor": 2
}
