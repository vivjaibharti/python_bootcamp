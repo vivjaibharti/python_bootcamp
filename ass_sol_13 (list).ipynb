{
 "cells": [
  {
   "cell_type": "code",
   "execution_count": 2,
   "metadata": {},
   "outputs": [
    {
     "name": "stdout",
     "output_type": "stream",
     "text": [
      "<class 'list'>\n",
      "['Java', 'Python', 'SQL', 'C']\n"
     ]
    }
   ],
   "source": [
    "#1. Write a python script to store multiple items in a single variable ( Items are “Java”,“Python”,  “SQL”,  “C” ) using list.\n",
    "l1=[\"Java\",\"Python\",\"SQL\",\"C\"]\n",
    "print(type(l1))\n",
    "print(l1)"
   ]
  },
  {
   "cell_type": "code",
   "execution_count": 3,
   "metadata": {},
   "outputs": [
    {
     "name": "stdout",
     "output_type": "stream",
     "text": [
      "<class 'list'>\n",
      "['Java', 'Python', 'SQL', 'C']\n"
     ]
    }
   ],
   "source": [
    "#2. Write a python script to get the data type of a list.\n",
    "l2=[\"Java\",\"Python\",\"SQL\",\"C\"]\n",
    "print(type(l2))\n",
    "print(l2)"
   ]
  },
  {
   "cell_type": "code",
   "execution_count": 5,
   "metadata": {},
   "outputs": [
    {
     "name": "stdout",
     "output_type": "stream",
     "text": [
      "Python\n"
     ]
    }
   ],
   "source": [
    "#3. Write a python script to get the last item of the list ( mylist = [\"Java\", \"C\", \"Python\"])\n",
    "mylist=[\"Java\",\"C\",\"Python\"]\n",
    "print(mylist[-1])"
   ]
  },
  {
   "cell_type": "code",
   "execution_count": 8,
   "metadata": {},
   "outputs": [
    {
     "name": "stdout",
     "output_type": "stream",
     "text": [
      "['Java', 'NoSQL', 'C', 'Flutter', 'Javascript', 'Python']\n"
     ]
    }
   ],
   "source": [
    "#4. Write a python script to Change the values \"SQL\" and \"Reactnative\" with the values\"NoSQL\" and \"Flutter\" (List is thislist = [\"Java\", \"SQL\", \"C\", \"Reactnative\",\"Javascript\", \"Python\"].\n",
    "thislist=[\"Java\",\"SQL\",\"C\", \"Reactnative\",\"Javascript\", \"Python\"]\n",
    "\n",
    "index1=thislist.index(\"SQL\")\n",
    "index2=thislist.index(\"Reactnative\")\n",
    "\n",
    "thislist[index1]=\"NoSQL\"\n",
    "thislist[index2]=\"Flutter\"\n",
    "\n",
    "print(thislist)"
   ]
  },
  {
   "cell_type": "code",
   "execution_count": 9,
   "metadata": {},
   "outputs": [
    {
     "name": "stdout",
     "output_type": "stream",
     "text": [
      "['Java', 'SQL', 'C', 'Reactnative', 'Python']\n"
     ]
    }
   ],
   "source": [
    "#5. Write a python script to add an item to the end of the list (item “Python”. (mylist =[\"Java\", \"SQL\", \"C\", \"Reactnative\"].\n",
    "mylist=[\"Java\",\"SQL\",\"C\", \"Reactnative\"]\n",
    "mylist.append(\"Python\")\n",
    "print(mylist)"
   ]
  },
  {
   "cell_type": "code",
   "execution_count": 20,
   "metadata": {},
   "outputs": [
    {
     "name": "stdout",
     "output_type": "stream",
     "text": [
      "['Java', 'Python', 'SQL']\n",
      "['Java', 'Python', 'SQL', 'C', 'Cpp', 'NoSQL']\n"
     ]
    }
   ],
   "source": [
    "#6. Write a python program to append elements from another list to the current list.(firstlist = [\"Java\", \"Python\", \"SQL\"] secondlist = [\"C\", \"Cpp\", \"NoSQL\"] ).\n",
    "firstlist = [\"Java\", \"Python\", \"SQL\"]\n",
    "secondlist = [\"C\", \"Cpp\", \"NoSQL\"]\n",
    "print(firstlist)\n",
    "firstlist.extend(secondlist)\n",
    "print(firstlist)"
   ]
  },
  {
   "cell_type": "code",
   "execution_count": 16,
   "metadata": {},
   "outputs": [
    {
     "name": "stdout",
     "output_type": "stream",
     "text": [
      "Java\n",
      "SQL\n",
      "C\n",
      "Reactnative\n",
      "Javascript\n",
      "Python\n"
     ]
    }
   ],
   "source": [
    "#7. Write a python program to Print all items by referring to their index number (thislist =[\"Java\", \"SQL\", \"C\", \"Reactnative\", \"Javascript\", \"Python\"].\n",
    "thislist =[\"Java\", \"SQL\", \"C\", \"Reactnative\", \"Javascript\", \"Python\"]\n",
    "for i in range(len(thislist)):\n",
    "    print(thislist[i])"
   ]
  },
  {
   "cell_type": "code",
   "execution_count": 19,
   "metadata": {},
   "outputs": [
    {
     "name": "stdout",
     "output_type": "stream",
     "text": [
      "['C', 'Java', 'Javascript', 'Python', 'Reactjs', 'SQL']\n"
     ]
    }
   ],
   "source": [
    "#8. Write a python program to sort the list alphanumerically – thislist = [\"Java\", \"SQL\",\"C\", \"Reactjs\", \"Javascript\", \"Python\"].\n",
    "thislist = [\"Java\", \"SQL\",\"C\", \"Reactjs\", \"Javascript\", \"Python\"]\n",
    "thislist.sort()\n",
    "print(thislist)"
   ]
  },
  {
   "cell_type": "code",
   "execution_count": 23,
   "metadata": {},
   "outputs": [
    {
     "name": "stdout",
     "output_type": "stream",
     "text": [
      "['Patna', 'Delhi', 'Guwahati', 'Panji', 'Lucknow']\n"
     ]
    }
   ],
   "source": [
    "#9. Write a Python script to create a list of city names taken from the user.\n",
    "x=int(input(\"Enter no. of cities to enter:\"))\n",
    "l1=[]\n",
    "i=0\n",
    "while i<x:\n",
    "    l1.append(input(\"Enter city name:\"))\n",
    "    i+=1\n",
    "print(l1)"
   ]
  },
  {
   "cell_type": "code",
   "execution_count": 24,
   "metadata": {},
   "outputs": [
    {
     "name": "stdout",
     "output_type": "stream",
     "text": [
      "[2, 4, 5, 8, 3]\n"
     ]
    }
   ],
   "source": [
    "#10. Write a Python script to create a list, where each element of the list is a digit of a given number.\n",
    "l1=[int(x) for x in input(\"Enter number:\")]\n",
    "print (l1)"
   ]
  }
 ],
 "metadata": {
  "kernelspec": {
   "display_name": "Python 3",
   "language": "python",
   "name": "python3"
  },
  "language_info": {
   "codemirror_mode": {
    "name": "ipython",
    "version": 3
   },
   "file_extension": ".py",
   "mimetype": "text/x-python",
   "name": "python",
   "nbconvert_exporter": "python",
   "pygments_lexer": "ipython3",
   "version": "3.10.6"
  },
  "orig_nbformat": 4
 },
 "nbformat": 4,
 "nbformat_minor": 2
}
