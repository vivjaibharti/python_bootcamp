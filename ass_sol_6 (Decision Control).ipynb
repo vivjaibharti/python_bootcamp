{
 "cells": [
  {
   "cell_type": "markdown",
   "metadata": {},
   "source": [
    "Assignment_6_Decision_Control_Solutions.."
   ]
  },
  {
   "cell_type": "code",
   "execution_count": 15,
   "metadata": {},
   "outputs": [
    {
     "name": "stdout",
     "output_type": "stream",
     "text": [
      "0 is a non-positive number.\n"
     ]
    }
   ],
   "source": [
    "#1. Write a python script to check whether a given number is positive or non-positive.\n",
    "x=int(input(\"Enter an integer:\"))\n",
    "if x<=0:\n",
    "    print(x,\"is a non-positive number.\")\n",
    "else:\n",
    "    print(x,\"is a positive number.\")"
   ]
  },
  {
   "cell_type": "code",
   "execution_count": 3,
   "metadata": {},
   "outputs": [
    {
     "name": "stdout",
     "output_type": "stream",
     "text": [
      "2560 is divisible by 5.\n"
     ]
    }
   ],
   "source": [
    "#2. Write a python script to check whether a given number is divisible by 5 or not.\n",
    "x=int(input(\"Enter an integer:\"))\n",
    "if x%5==0:\n",
    "    print(x,\"is divisible by 5.\")\n",
    "else:\n",
    "    print(x,\"is not divisible by 5.\")"
   ]
  },
  {
   "cell_type": "code",
   "execution_count": 5,
   "metadata": {},
   "outputs": [
    {
     "name": "stdout",
     "output_type": "stream",
     "text": [
      "987 is an odd number.\n"
     ]
    }
   ],
   "source": [
    "#3. Write a python script to check whether a given number is even or odd.\n",
    "x=int(input(\"Enter a number:\"))\n",
    "if(x%2==0):\n",
    "    print(x,\"is an even number.\")\n",
    "else:\n",
    "    print(x,\"is an odd number.\")"
   ]
  },
  {
   "cell_type": "code",
   "execution_count": 6,
   "metadata": {},
   "outputs": [
    {
     "name": "stdout",
     "output_type": "stream",
     "text": [
      "Both numbers are same.\n"
     ]
    }
   ],
   "source": [
    "#4. Write a python script to print greater between two numbers. Print number only once even if the numbers are the same.\n",
    "x=int(input(\"Enter value of x:\"))\n",
    "y=int(input(\"Enter value of y:\"))\n",
    "if x>y:\n",
    "    print(x,\"is greater than\",y)\n",
    "elif x<y:\n",
    "    print(y,\"is greater than\",x)\n",
    "else:\n",
    "    print(\"Both numbers are same.\")\n"
   ]
  },
  {
   "cell_type": "code",
   "execution_count": 10,
   "metadata": {},
   "outputs": [
    {
     "name": "stdout",
     "output_type": "stream",
     "text": [
      "aman,vivek\n"
     ]
    }
   ],
   "source": [
    "#5. Write a python script to print two given words in dictionary order.\n",
    "x=input(\"Enter first word:\")\n",
    "y=input(\"Enter second word:\")\n",
    "print(y,x,sep=\",\")if x>y else print(x,y,sep=\",\")"
   ]
  },
  {
   "cell_type": "code",
   "execution_count": 13,
   "metadata": {},
   "outputs": [
    {
     "name": "stdout",
     "output_type": "stream",
     "text": [
      "x is a three digit number.\n"
     ]
    }
   ],
   "source": [
    "#6. Write a python script to check whether a given number is a three digit number or not.\n",
    "x=int(input(\"Enter a number:\"))\n",
    "count=0\n",
    "while x!=0:\n",
    "    x=x//10 #Using true division operator.\n",
    "    count+=1\n",
    "\n",
    "if count==3:\n",
    "    print(\"x is a three digit number.\")\n",
    "else:\n",
    "    print(\"x is not a three digit number.\")"
   ]
  },
  {
   "cell_type": "code",
   "execution_count": 17,
   "metadata": {},
   "outputs": [
    {
     "name": "stdout",
     "output_type": "stream",
     "text": [
      "-658 is a negative number.\n"
     ]
    }
   ],
   "source": [
    "#7. Write a python script to check whether a given number is positive, negative or zero.\n",
    "x=int(input(\"Enter an integer:\"))\n",
    "if x<0:\n",
    "    print(x,\"is a negative number.\")\n",
    "elif x>0:\n",
    "    print(x,\"is a positive number.\")\n",
    "else:\n",
    "    print(x,\"is zero.\")"
   ]
  },
  {
   "cell_type": "code",
   "execution_count": 18,
   "metadata": {},
   "outputs": [
    {
     "name": "stdout",
     "output_type": "stream",
     "text": [
      "Real and distinct roots.\n"
     ]
    }
   ],
   "source": [
    "#8. Write a python script to check whether a given quadratic equation has two real & distinct roots, real & equal roots or imaginary roots.\n",
    "a=int(input(\"Enter value of a:\"))\n",
    "b=int(input(\"Enter value of b:\"))\n",
    "c=int(input(\"Enter value of c:\"))\n",
    "d=(b**2)-4*a*c\n",
    "if(d>0):\n",
    "    print(\"Real and distinct roots.\")\n",
    "elif d==0:\n",
    "    print(\"Real and equal roots.\")\n",
    "else:\n",
    "    print(\"Imaginary roots.\")\n"
   ]
  },
  {
   "cell_type": "code",
   "execution_count": null,
   "metadata": {},
   "outputs": [],
   "source": [
    "#9. Write a python script to check whether a given year is a leap year or not.\n",
    "x=int(input(\"Enter the year in format XXXX:\"))\n"
   ]
  },
  {
   "cell_type": "code",
   "execution_count": 31,
   "metadata": {},
   "outputs": [
    {
     "name": "stdout",
     "output_type": "stream",
     "text": [
      "0.7010453785164438:0.7682003596668862:0.008559785610280035\n",
      "0.7682003596668862 is the greatest number.\n"
     ]
    }
   ],
   "source": [
    "#10. Write a python script to print greater among three numbers. Print number only once even if the numbers are the same.\n",
    "from random import random\n",
    "x=random()\n",
    "y=random()\n",
    "z=random()\n",
    "print(x,y,z,sep=\":\")\n",
    "if x>y:\n",
    "    if x>z:\n",
    "        print(x,\"is the greatest number.\")\n",
    "elif y>z:\n",
    "    print(y,\"is the greatest number.\")\n",
    "else:\n",
    "    print(z,\"is the greatest number.\")"
   ]
  },
  {
   "cell_type": "code",
   "execution_count": 38,
   "metadata": {},
   "outputs": [
    {
     "name": "stdout",
     "output_type": "stream",
     "text": [
      "The number of days in month no. 5 is 31\n"
     ]
    }
   ],
   "source": [
    "#11. Write a python script to take the month value in numeric format and display the number of days in it.\n",
    "x=int(input(\"Enter the month's number:\"))\n",
    "if x==2:\n",
    "    print(\"The number of days in 2nd month is\",28)\n",
    "elif (x==4 or x==6 or x==9 or x==11):\n",
    "    print(\"The number of days in\",x,\"month is\",30)\n",
    "else:\n",
    "    print(\"The number of days in month no.\",x,\"is\",31)"
   ]
  },
  {
   "cell_type": "code",
   "execution_count": null,
   "metadata": {},
   "outputs": [],
   "source": [
    "#12. Write a python script to accept one complex number from the user and display the greater number between real part and imaginary part.\n",
    "real=float(input(\"Enter real part number:\"))\n",
    "img=complex(input(\"Enter imaginary part number:\"))\n",
    "x=complex(input(\"Enter a complex number:\"))\n",
    "if real<=img:\n",
    "    print(\"Real part is greater.\")\n",
    "else:\n",
    "    print(\"Imaginary part is greater.\")"
   ]
  }
 ],
 "metadata": {
  "kernelspec": {
   "display_name": "Python 3",
   "language": "python",
   "name": "python3"
  },
  "language_info": {
   "codemirror_mode": {
    "name": "ipython",
    "version": 3
   },
   "file_extension": ".py",
   "mimetype": "text/x-python",
   "name": "python",
   "nbconvert_exporter": "python",
   "pygments_lexer": "ipython3",
   "version": "3.10.6"
  },
  "orig_nbformat": 4
 },
 "nbformat": 4,
 "nbformat_minor": 2
}
