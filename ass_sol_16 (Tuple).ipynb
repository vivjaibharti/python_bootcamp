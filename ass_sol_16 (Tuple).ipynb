{
 "cells": [
  {
   "cell_type": "code",
   "execution_count": null,
   "metadata": {},
   "outputs": [],
   "source": [
    "#1. Write a python script to store multiple items in a single variable ( Items are “Java”,“Python”,  “SQL”,  “C” ) using tuple.\n",
    "t11=\"Java\",\"Python\",\"SQL\",\"C\"\n",
    "type(t11)"
   ]
  },
  {
   "cell_type": "code",
   "execution_count": null,
   "metadata": {},
   "outputs": [],
   "source": [
    "#2. Write a python program to store only one item using tuple.\n",
    "t21=(10,)\n",
    "type(t21)"
   ]
  },
  {
   "cell_type": "code",
   "execution_count": null,
   "metadata": {},
   "outputs": [],
   "source": [
    "#3. Write a python program to reverse the tuple.\n",
    "t31=10,20,\"Vivek\",\"30\"\n",
    "t32=t31[::-1]\n",
    "print(t32)"
   ]
  },
  {
   "cell_type": "code",
   "execution_count": null,
   "metadata": {},
   "outputs": [],
   "source": [
    "#4. Write a python program to Swap two tuples in Python.\n",
    "t41=\"Java\",\"Python\",\"SQL\",\"C\"\n",
    "t42=10,20,\"Vivek\",\"30\"\n",
    "temp=t41\n",
    "t41=t42\n",
    "t42=temp\n",
    "print(t41,t42,sep=\"\\n\")"
   ]
  },
  {
   "cell_type": "code",
   "execution_count": 10,
   "metadata": {},
   "outputs": [
    {
     "name": "stdout",
     "output_type": "stream",
     "text": [
      "Tuple t51 does not have the same elements.\n"
     ]
    }
   ],
   "source": [
    "#5. Write a python program to check if all items in the tuple are the same.\n",
    "t51=(1,1,1,\"2\")\n",
    "flag=0\n",
    "for i in t51:\n",
    "    if i==t51[0]:\n",
    "        flag=1\n",
    "        continue\n",
    "    else:\n",
    "        flag=0\n",
    "        print(\"Tuple t51 does not have the same elements.\")\n",
    "        break\n",
    "if flag==1:\n",
    "    print(\"Tuple t51 have the same elements.\")"
   ]
  },
  {
   "cell_type": "code",
   "execution_count": 11,
   "metadata": {},
   "outputs": [
    {
     "name": "stdout",
     "output_type": "stream",
     "text": [
      "100 200 300 400\n"
     ]
    }
   ],
   "source": [
    "#6. Write a python program to divide the tuple into four variables, tuple1=(100, 200, 300, 400)\n",
    "t61=(100,200,300,400)\n",
    "var1,var2,var3,var4=t61\n",
    "print(var1,var2,var3,var4)"
   ]
  },
  {
   "cell_type": "code",
   "execution_count": 19,
   "metadata": {},
   "outputs": [
    {
     "name": "stdout",
     "output_type": "stream",
     "text": [
      "(4, 5)\n"
     ]
    }
   ],
   "source": [
    "#7. Write a python program to copy elements 4 and 5 from the following tuple  into a new tuple. tuple1=(1,2,3,4,5,6)\n",
    "t71=(1,2,3,4,5,6)\n",
    "t72=(t71[3],t71[4])\n",
    "# var1=t71[4]\n",
    "# var2=t71[5]\n",
    "# t73=(var1,var2)\n",
    "# print(t73)\n",
    "print(t72)"
   ]
  },
  {
   "cell_type": "code",
   "execution_count": 13,
   "metadata": {},
   "outputs": [
    {
     "name": "stdout",
     "output_type": "stream",
     "text": [
      "[('a', 21), ('b', 37), ('c', 11), ('d', 29)]\n"
     ]
    }
   ],
   "source": [
    "#8. Write a python program to Sort a tuple of tuples by the second item.\n",
    "# tuple1 = (('a', 21),('b', 37),('c', 11), ('d',29))\n",
    "t81=(('a',21),('b', 37),('c', 11), ('d',29))\n",
    "t82=sorted(t81)\n",
    "print(t82)"
   ]
  },
  {
   "cell_type": "code",
   "execution_count": 14,
   "metadata": {},
   "outputs": [
    {
     "name": "stdout",
     "output_type": "stream",
     "text": [
      "20\n"
     ]
    }
   ],
   "source": [
    "#9. Write a python program to print the value 20 from given nested tuple\n",
    "# tuple1 = (\"Python\", [10, 20, 30], (2, 4, 16))\n",
    "t91=(\"Python\", [10, 20, 30], (2, 4, 16))\n",
    "print(t91[1][1])"
   ]
  },
  {
   "cell_type": "code",
   "execution_count": 18,
   "metadata": {},
   "outputs": [
    {
     "name": "stdout",
     "output_type": "stream",
     "text": [
      "(11, [222, 33], 44, 55)\n"
     ]
    }
   ],
   "source": [
    "#10. Write a python program to change the first item (22) of a list within the following tuple\n",
    "# to 222. tuple1 = (11, [22, 33], 44, 55).\n",
    "t101=(11, [22, 33], 44, 55)\n",
    "t101[1][0]=222\n",
    "print(t101)"
   ]
  }
 ],
 "metadata": {
  "kernelspec": {
   "display_name": "Python 3",
   "language": "python",
   "name": "python3"
  },
  "language_info": {
   "codemirror_mode": {
    "name": "ipython",
    "version": 3
   },
   "file_extension": ".py",
   "mimetype": "text/x-python",
   "name": "python",
   "nbconvert_exporter": "python",
   "pygments_lexer": "ipython3",
   "version": "3.10.6"
  },
  "orig_nbformat": 4
 },
 "nbformat": 4,
 "nbformat_minor": 2
}
