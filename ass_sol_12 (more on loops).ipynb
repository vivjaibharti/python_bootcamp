{
 "cells": [
  {
   "cell_type": "code",
   "execution_count": 39,
   "metadata": {},
   "outputs": [
    {
     "name": "stdout",
     "output_type": "stream",
     "text": [
      "Reversed numbr: 678541\n"
     ]
    }
   ],
   "source": [
    "#1. Write a python script to reverse a number.\n",
    "x=int(input(\"Enter a number\"))\n",
    "reverse=0\n",
    "while(x!=0):\n",
    "    reverse=reverse*10+x%10\n",
    "    x=x//10\n",
    "print(\"Reversed numbr:\",reverse)"
   ]
  },
  {
   "cell_type": "code",
   "execution_count": 38,
   "metadata": {},
   "outputs": [
    {
     "name": "stdout",
     "output_type": "stream",
     "text": [
      "14875263 is non prime number.\n"
     ]
    }
   ],
   "source": [
    "#2. Write a python script to check whether a given number is Prime or not.\n",
    "x=int(input(\"Enter a number:\"))\n",
    "if x==1 or x>2 and x%2==0:\n",
    "    print(x,\"is non-prime number.\")\n",
    "elif x%2!=0:\n",
    "    count=0\n",
    "    for i in range(3,x):\n",
    "        if x%i==0:\n",
    "            count+=1\n",
    "            break\n",
    "    if count!=0:\n",
    "        print(x,\"is non prime number.\")\n",
    "    else:\n",
    "        print(x,\"is a prime number.\")\n",
    "else:\n",
    "    print(x,\"is a prime number.\")\n"
   ]
  },
  {
   "cell_type": "code",
   "execution_count": 37,
   "metadata": {},
   "outputs": [
    {
     "name": "stdout",
     "output_type": "stream",
     "text": [
      "2 3 5 7 11 13 17 19 23 29 31 37 41 43 47 53 59 61 67 71 73 79 83 89 97 "
     ]
    }
   ],
   "source": [
    "#3. Write a python script to print all Prime numbers under 100.\n",
    "x=int(input(\"Enter a number:\"))\n",
    "for i in range(1,x+1):\n",
    "    if i==1 or i>2 and i%2==0:\n",
    "        continue\n",
    "    elif i%2!=0:\n",
    "        count=0\n",
    "        for j in range(3,i):\n",
    "            if i%j==0:\n",
    "                count+=1\n",
    "                break\n",
    "        if count!=0:\n",
    "           continue\n",
    "        else:\n",
    "            print(i,end=\" \")\n",
    "    else:\n",
    "        print(i,end=\" \")"
   ]
  },
  {
   "cell_type": "code",
   "execution_count": 36,
   "metadata": {},
   "outputs": [
    {
     "name": "stdout",
     "output_type": "stream",
     "text": [
      "11 13 17 19 23 29 31 37 41 43 47 53 "
     ]
    }
   ],
   "source": [
    "#4. Write a python script to print all Prime numbers between two given numbers (both values inclusive).\n",
    "x=int(input(\"Enter a number:\"))\n",
    "y=int(input(\"Enter a number:\"))\n",
    "for i in range(x,y+1):\n",
    "    if i==1 or i>2 and i%2==0:\n",
    "        continue\n",
    "    elif i%2!=0:\n",
    "        count=0\n",
    "        for j in range(3,i):\n",
    "            if i%j==0:\n",
    "                count+=1\n",
    "                break\n",
    "        if count!=0:\n",
    "           continue\n",
    "        else:\n",
    "            print(i,end=\" \")\n",
    "    else:\n",
    "        print(i,end=\" \")"
   ]
  },
  {
   "cell_type": "code",
   "execution_count": 32,
   "metadata": {},
   "outputs": [
    {
     "name": "stdout",
     "output_type": "stream",
     "text": [
      "17\n"
     ]
    }
   ],
   "source": [
    "#5. Write a python script to find next prime number of a given number.\n",
    "x=int(input(\"Enter a number:\"))\n",
    "i=x+1\n",
    "while True:\n",
    "    if i==1 or i>2 and i%2==0:\n",
    "        i+=1\n",
    "        continue\n",
    "        \n",
    "    elif i%2!=0:\n",
    "        count=0\n",
    "        for j in range(3,i):\n",
    "            if i%j==0:\n",
    "                count+=1\n",
    "                break\n",
    "        if count!=0:\n",
    "           i+=1\n",
    "           continue\n",
    "        else:\n",
    "            print(i)\n",
    "            break\n",
    "        \n",
    "    else:\n",
    "        print(i)\n",
    "        break\n"
   ]
  },
  {
   "cell_type": "code",
   "execution_count": 40,
   "metadata": {},
   "outputs": [
    {
     "name": "stdout",
     "output_type": "stream",
     "text": [
      "2 3 5 7 11 13 17 19 23 29 31 37 41 43 47 53 59 61 67 71 73 79 83 89 97 101 103 107 109 113 127 131 137 139 149 151 157 163 167 173 179 181 191 193 197 199 211 223 227 229 "
     ]
    }
   ],
   "source": [
    "#6. Write a python script to print first N prime numbers.\n",
    "x=int(input(\"Enter a number:\"))\n",
    "i=1\n",
    "temp=1\n",
    "while True:\n",
    "    if temp>x:\n",
    "        break\n",
    "\n",
    "    if i==1 or i>2 and i%2==0:\n",
    "        i+=1\n",
    "        continue   \n",
    "    elif i%2!=0:\n",
    "        count=0\n",
    "        for j in range(3,i):\n",
    "            if i%j==0:\n",
    "                count+=1\n",
    "                break\n",
    "        if count!=0:\n",
    "           i+=1\n",
    "           continue\n",
    "        else:\n",
    "            print(i,end=\" \")\n",
    "            i+=1\n",
    "            temp+=1 \n",
    "    else:\n",
    "        print(i,end=\" \")\n",
    "        i+=1\n",
    "        temp+=1"
   ]
  },
  {
   "cell_type": "code",
   "execution_count": null,
   "metadata": {},
   "outputs": [],
   "source": [
    "#7. Write a python script to check whether a given pair of numbers are co-Prime numbers or not.\n",
    "x=int(input(\"Enter a number:\"))\n",
    "y=int(input(\"Enter a number:\"))\n",
    "\n"
   ]
  },
  {
   "cell_type": "code",
   "execution_count": null,
   "metadata": {},
   "outputs": [],
   "source": [
    "#8. Write a python script to print first N terms of a Fibonacci series.\n"
   ]
  },
  {
   "cell_type": "code",
   "execution_count": null,
   "metadata": {},
   "outputs": [],
   "source": [
    "#9. Write a python script to calculate LCM of two numbers."
   ]
  },
  {
   "cell_type": "code",
   "execution_count": null,
   "metadata": {},
   "outputs": [],
   "source": [
    "#10. Write a python script to calculate HCF of two numbers."
   ]
  }
 ],
 "metadata": {
  "kernelspec": {
   "display_name": "Python 3",
   "language": "python",
   "name": "python3"
  },
  "language_info": {
   "codemirror_mode": {
    "name": "ipython",
    "version": 3
   },
   "file_extension": ".py",
   "mimetype": "text/x-python",
   "name": "python",
   "nbconvert_exporter": "python",
   "pygments_lexer": "ipython3",
   "version": "3.10.6"
  },
  "orig_nbformat": 4
 },
 "nbformat": 4,
 "nbformat_minor": 2
}
