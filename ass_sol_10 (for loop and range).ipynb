{
 "cells": [
  {
   "cell_type": "code",
   "execution_count": null,
   "metadata": {},
   "outputs": [],
   "source": [
    "#1. Write a python script to print the first 10 multiples of 5.\n",
    "for i in range(1,11):\n",
    "    print(\"5 * 1=\",5*i)"
   ]
  },
  {
   "cell_type": "code",
   "execution_count": null,
   "metadata": {},
   "outputs": [],
   "source": [
    "#2. Write a python script to print first 10 multiples of N.\n",
    "n=int(input(\"Enter value of n:\"))\n",
    "for i in range(1,11):\n",
    "    print(n,\"*\",i,\"=\",n*i)"
   ]
  },
  {
   "cell_type": "code",
   "execution_count": null,
   "metadata": {},
   "outputs": [],
   "source": [
    "#3. Write a python script to print first M multiples of N.\n",
    "n=int(input(\"Enter value of n\"))\n",
    "m=int(input(\"Enter value of m\"))\n",
    "for i in range(1,m+1):\n",
    "    print(n,\"*\",m,\"=\",n*i)"
   ]
  },
  {
   "cell_type": "code",
   "execution_count": null,
   "metadata": {},
   "outputs": [],
   "source": [
    "#4. Write a python script to print the first 10 multiples of N in reverse order.\n",
    "n=int(input(\"Enter value of n:\"))\n",
    "for i in range(10,0,-1):\n",
    "    print(n,\"*\",i,\"=\",n*i)"
   ]
  },
  {
   "cell_type": "code",
   "execution_count": null,
   "metadata": {},
   "outputs": [],
   "source": [
    "#5. Write a python script to print table of user’s choice.\n",
    "n=int(input(\"Enter value of n to print its table:\"))\n",
    "for i in range(1,11):\n",
    "    print(n,\"*\",i,\"=\",n*i)"
   ]
  },
  {
   "cell_type": "code",
   "execution_count": 6,
   "metadata": {},
   "outputs": [
    {
     "name": "stdout",
     "output_type": "stream",
     "text": [
      "2 4 6 8 10 12 14 16 18 20 "
     ]
    }
   ],
   "source": [
    "#6. Write a python script to print first N even natural numbers.\n",
    "n=int(input(\"Enter value of n:\"))\n",
    "for i in range(1,n+1):\n",
    "    print(i*2,end=\" \")"
   ]
  },
  {
   "cell_type": "code",
   "execution_count": 8,
   "metadata": {},
   "outputs": [
    {
     "name": "stdout",
     "output_type": "stream",
     "text": [
      "1 3 5 7 9 11 13 15 17 19 "
     ]
    }
   ],
   "source": [
    "#7. Write a python script to print first N odd natural numbers.\n",
    "n=int(input(\"Enter value of n:\"))\n",
    "for i in range(1,n+1):\n",
    "    print(-1+2*i,end=\" \")"
   ]
  },
  {
   "cell_type": "code",
   "execution_count": 9,
   "metadata": {},
   "outputs": [
    {
     "name": "stdout",
     "output_type": "stream",
     "text": [
      "1 4 9 16 25 36 49 64 81 100 "
     ]
    }
   ],
   "source": [
    "#8. Write a python script to print squares of first N natural numbers.\n",
    "n=int(input(\"Enter value of n:\"))\n",
    "for i in range(1,n+1):\n",
    "    print(i**2,end=\" \")"
   ]
  },
  {
   "cell_type": "code",
   "execution_count": 10,
   "metadata": {},
   "outputs": [
    {
     "name": "stdout",
     "output_type": "stream",
     "text": [
      "1 8 27 64 125 216 343 512 729 1000 "
     ]
    }
   ],
   "source": [
    "#9. Write a python script to print cubes of first N natural numbers.\n",
    "n=int(input(\"Enter value of n:\"))\n",
    "for i in range(1,n+1):\n",
    "    print(i**3,end=\" \")"
   ]
  },
  {
   "cell_type": "code",
   "execution_count": 10,
   "metadata": {},
   "outputs": [
    {
     "name": "stdout",
     "output_type": "stream",
     "text": [
      "17,19,23,29,31,37,41,43,"
     ]
    }
   ],
   "source": [
    "'''\n",
    "10. Write a python script to display all prime numbers within a range.\n",
    "# range\n",
    "start = 15\n",
    "end = 45\n",
    "'''\n",
    "start=15\n",
    "end=45\n",
    "for i in range(start,end+1):\n",
    "    if(i==1 or (i!=2 and i%2==0)):\n",
    "        continue\n",
    "    elif (i%2)!=0:\n",
    "        flag=0\n",
    "        for j in range(3,i):\n",
    "            if i%j==0:\n",
    "                flag+=1\n",
    "                break\n",
    "        if flag==0:\n",
    "            print(i,end=\",\")\n",
    "    else:\n",
    "        print(2)\n"
   ]
  }
 ],
 "metadata": {
  "kernelspec": {
   "display_name": "Python 3",
   "language": "python",
   "name": "python3"
  },
  "language_info": {
   "codemirror_mode": {
    "name": "ipython",
    "version": 3
   },
   "file_extension": ".py",
   "mimetype": "text/x-python",
   "name": "python",
   "nbconvert_exporter": "python",
   "pygments_lexer": "ipython3",
   "version": "3.10.6"
  },
  "orig_nbformat": 4
 },
 "nbformat": 4,
 "nbformat_minor": 2
}
